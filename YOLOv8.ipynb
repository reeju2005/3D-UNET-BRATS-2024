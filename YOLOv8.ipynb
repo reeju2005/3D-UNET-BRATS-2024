{
 "cells": [
  {
   "cell_type": "markdown",
   "metadata": {},
   "source": [
    "# Setup env"
   ]
  },
  {
   "cell_type": "code",
   "execution_count": 1,
   "metadata": {
    "_cell_guid": "b1076dfc-b9ad-4769-8c92-a6c4dae69d19",
    "_kg_hide-output": true,
    "_uuid": "8f2839f25d086af736a60e9eeb907d3b93b6e0e5",
    "execution": {
     "iopub.execute_input": "2024-12-29T09:36:16.413069Z",
     "iopub.status.busy": "2024-12-29T09:36:16.412776Z",
     "iopub.status.idle": "2024-12-29T09:36:16.696497Z",
     "shell.execute_reply": "2024-12-29T09:36:16.695463Z",
     "shell.execute_reply.started": "2024-12-29T09:36:16.413038Z"
    },
    "trusted": true
   },
   "outputs": [],
   "source": [
    "import os\n",
    "import cv2\n",
    "import glob\n",
    "import PIL\n",
    "import shutil\n",
    "import numpy as np"
   ]
  },
  {
   "cell_type": "code",
   "execution_count": 2,
   "metadata": {},
   "outputs": [
    {
     "name": "stdout",
     "output_type": "stream",
     "text": [
      "Collecting git+https://github.com/miykael/gif_your_nifti.git\n",
      "  Cloning https://github.com/miykael/gif_your_nifti.git to c:\\users\\basur\\appdata\\local\\temp\\pip-req-build-c6_q39ni\n",
      "  Resolved https://github.com/miykael/gif_your_nifti.git to commit 55c09c42921f4871cf43f63a303ab420a92a4f03\n",
      "  Preparing metadata (setup.py): started\n",
      "  Preparing metadata (setup.py): finished with status 'done'\n",
      "Requirement already satisfied: numpy in c:\\users\\basur\\appdata\\local\\programs\\python\\python312\\lib\\site-packages (from gif_your_nifti==0.2.2) (1.26.4)\n",
      "Requirement already satisfied: nibabel in c:\\users\\basur\\appdata\\local\\programs\\python\\python312\\lib\\site-packages (from gif_your_nifti==0.2.2) (5.3.2)\n",
      "Requirement already satisfied: imageio<3 in c:\\users\\basur\\appdata\\local\\programs\\python\\python312\\lib\\site-packages (from gif_your_nifti==0.2.2) (2.36.0)\n",
      "Requirement already satisfied: matplotlib in c:\\users\\basur\\appdata\\local\\programs\\python\\python312\\lib\\site-packages (from gif_your_nifti==0.2.2) (3.9.2)\n",
      "Requirement already satisfied: scikit-image in c:\\users\\basur\\appdata\\local\\programs\\python\\python312\\lib\\site-packages (from gif_your_nifti==0.2.2) (0.24.0)\n",
      "Requirement already satisfied: pillow>=8.3.2 in c:\\users\\basur\\appdata\\local\\programs\\python\\python312\\lib\\site-packages (from imageio<3->gif_your_nifti==0.2.2) (10.4.0)\n",
      "Requirement already satisfied: contourpy>=1.0.1 in c:\\users\\basur\\appdata\\local\\programs\\python\\python312\\lib\\site-packages (from matplotlib->gif_your_nifti==0.2.2) (1.3.0)\n",
      "Requirement already satisfied: cycler>=0.10 in c:\\users\\basur\\appdata\\local\\programs\\python\\python312\\lib\\site-packages (from matplotlib->gif_your_nifti==0.2.2) (0.12.1)\n",
      "Requirement already satisfied: fonttools>=4.22.0 in c:\\users\\basur\\appdata\\local\\programs\\python\\python312\\lib\\site-packages (from matplotlib->gif_your_nifti==0.2.2) (4.54.1)\n",
      "Requirement already satisfied: kiwisolver>=1.3.1 in c:\\users\\basur\\appdata\\local\\programs\\python\\python312\\lib\\site-packages (from matplotlib->gif_your_nifti==0.2.2) (1.4.7)\n",
      "Requirement already satisfied: packaging>=20.0 in c:\\users\\basur\\appdata\\local\\programs\\python\\python312\\lib\\site-packages (from matplotlib->gif_your_nifti==0.2.2) (24.1)\n",
      "Requirement already satisfied: pyparsing>=2.3.1 in c:\\users\\basur\\appdata\\local\\programs\\python\\python312\\lib\\site-packages (from matplotlib->gif_your_nifti==0.2.2) (3.1.4)\n",
      "Requirement already satisfied: python-dateutil>=2.7 in c:\\users\\basur\\appdata\\local\\programs\\python\\python312\\lib\\site-packages (from matplotlib->gif_your_nifti==0.2.2) (2.9.0.post0)\n",
      "Requirement already satisfied: typing-extensions>=4.6 in c:\\users\\basur\\appdata\\local\\programs\\python\\python312\\lib\\site-packages (from nibabel->gif_your_nifti==0.2.2) (4.12.2)\n",
      "Requirement already satisfied: scipy>=1.9 in c:\\users\\basur\\appdata\\local\\programs\\python\\python312\\lib\\site-packages (from scikit-image->gif_your_nifti==0.2.2) (1.14.1)\n",
      "Requirement already satisfied: networkx>=2.8 in c:\\users\\basur\\appdata\\local\\programs\\python\\python312\\lib\\site-packages (from scikit-image->gif_your_nifti==0.2.2) (3.4.2)\n",
      "Requirement already satisfied: tifffile>=2022.8.12 in c:\\users\\basur\\appdata\\local\\programs\\python\\python312\\lib\\site-packages (from scikit-image->gif_your_nifti==0.2.2) (2024.9.20)\n",
      "Requirement already satisfied: lazy-loader>=0.4 in c:\\users\\basur\\appdata\\local\\programs\\python\\python312\\lib\\site-packages (from scikit-image->gif_your_nifti==0.2.2) (0.4)\n",
      "Requirement already satisfied: six>=1.5 in c:\\users\\basur\\appdata\\local\\programs\\python\\python312\\lib\\site-packages (from python-dateutil>=2.7->matplotlib->gif_your_nifti==0.2.2) (1.16.0)\n",
      "Note: you may need to restart the kernel to use updated packages.\n"
     ]
    },
    {
     "name": "stderr",
     "output_type": "stream",
     "text": [
      "  Running command git clone --filter=blob:none --quiet https://github.com/miykael/gif_your_nifti.git 'C:\\Users\\basur\\AppData\\Local\\Temp\\pip-req-build-c6_q39ni'\n",
      "\n",
      "[notice] A new release of pip is available: 25.0 -> 25.0.1\n",
      "[notice] To update, run: python.exe -m pip install --upgrade pip\n"
     ]
    }
   ],
   "source": [
    "pip install git+https://github.com/miykael/gif_your_nifti.git"
   ]
  },
  {
   "cell_type": "code",
   "execution_count": 3,
   "metadata": {
    "_cell_guid": "b1076dfc-b9ad-4769-8c92-a6c4dae69d19",
    "_kg_hide-output": true,
    "_uuid": "8f2839f25d086af736a60e9eeb907d3b93b6e0e5",
    "execution": {
     "iopub.execute_input": "2024-12-29T09:45:55.267286Z",
     "iopub.status.busy": "2024-12-29T09:45:55.266909Z",
     "iopub.status.idle": "2024-12-29T09:47:01.270348Z",
     "shell.execute_reply": "2024-12-29T09:47:01.268860Z",
     "shell.execute_reply.started": "2024-12-29T09:45:55.267253Z"
    },
    "trusted": true
   },
   "outputs": [],
   "source": [
    "import pandas as pd\n",
    "import seaborn as sns\n",
    "import matplotlib.pyplot as plt\n",
    "from skimage import data\n",
    "from skimage.util import montage \n",
    "import skimage.transform as skTrans\n",
    "from skimage.transform import rotate\n",
    "from skimage.transform import resize\n",
    "from PIL import Image, ImageOps  \n",
    "\n",
    "\n",
    "# neural imaging\n",
    "import nilearn as nl\n",
    "import nibabel as nib\n",
    "import nilearn.plotting as nlplt\n",
    "\n",
    "import gif_your_nifti.core as gif2nif\n",
    "\n",
    "\n",
    "# ml libs\n",
    "import keras\n",
    "import keras.backend as K\n",
    "from keras.callbacks import CSVLogger\n",
    "import tensorflow as tf\n",
    "from tensorflow.keras.utils import plot_model\n",
    "from sklearn.preprocessing import MinMaxScaler\n",
    "from sklearn.model_selection import train_test_split\n",
    "from sklearn.metrics import classification_report\n",
    "from tensorflow.keras.models import *\n",
    "from tensorflow.keras.layers import *\n",
    "from tensorflow.keras.optimizers import *\n",
    "from tensorflow.keras.callbacks import ModelCheckpoint, ReduceLROnPlateau, EarlyStopping, TensorBoard\n",
    "# Correct import for preprocessing layers\n",
    "from tensorflow.keras.layers import Rescaling, Normalization\n",
    "\n",
    "\n",
    "\n",
    "\n",
    "# Make numpy printouts easier to read.\n",
    "np.set_printoptions(precision=3, suppress=True)"
   ]
  },
  {
   "cell_type": "code",
   "execution_count": 4,
   "metadata": {},
   "outputs": [
    {
     "name": "stdout",
     "output_type": "stream",
     "text": [
      "Requirement already satisfied: kagglehub in c:\\users\\basur\\appdata\\local\\programs\\python\\python312\\lib\\site-packages (0.3.6)\n",
      "Requirement already satisfied: packaging in c:\\users\\basur\\appdata\\local\\programs\\python\\python312\\lib\\site-packages (from kagglehub) (24.1)\n",
      "Requirement already satisfied: requests in c:\\users\\basur\\appdata\\local\\programs\\python\\python312\\lib\\site-packages (from kagglehub) (2.32.3)\n",
      "Requirement already satisfied: tqdm in c:\\users\\basur\\appdata\\local\\programs\\python\\python312\\lib\\site-packages (from kagglehub) (4.67.0)\n",
      "Requirement already satisfied: charset-normalizer<4,>=2 in c:\\users\\basur\\appdata\\local\\programs\\python\\python312\\lib\\site-packages (from requests->kagglehub) (3.3.2)\n",
      "Requirement already satisfied: idna<4,>=2.5 in c:\\users\\basur\\appdata\\local\\programs\\python\\python312\\lib\\site-packages (from requests->kagglehub) (3.10)\n",
      "Requirement already satisfied: urllib3<3,>=1.21.1 in c:\\users\\basur\\appdata\\local\\programs\\python\\python312\\lib\\site-packages (from requests->kagglehub) (1.26.20)\n",
      "Requirement already satisfied: certifi>=2017.4.17 in c:\\users\\basur\\appdata\\local\\programs\\python\\python312\\lib\\site-packages (from requests->kagglehub) (2024.8.30)\n",
      "Requirement already satisfied: colorama in c:\\users\\basur\\appdata\\local\\programs\\python\\python312\\lib\\site-packages (from tqdm->kagglehub) (0.4.6)\n"
     ]
    },
    {
     "name": "stderr",
     "output_type": "stream",
     "text": [
      "\n",
      "[notice] A new release of pip is available: 25.0 -> 25.0.1\n",
      "[notice] To update, run: python.exe -m pip install --upgrade pip\n"
     ]
    }
   ],
   "source": [
    "!pip install kagglehub"
   ]
  },
  {
   "cell_type": "code",
   "execution_count": 34,
   "metadata": {},
   "outputs": [],
   "source": [
    "data_path= r\"C:\\Users\\basur\\Music\\ASNR-MICCAI-BraTS2023-GLI-Challenge-TrainingData\"\n",
    "train_val_split = 0.80\n",
    "val_test_split = 0.20\n",
    "bz_train=8\n",
    "bz_val=4\n",
    "bz_test=1\n",
    "num_epochs=3\n",
    "\n",
    "crop_dim = (240, 240, 155, 1)\n",
    "number_output_classes = 3\n",
    "\n",
    "filters=8\n",
    "saved_model_name = \"3d_unet_decathlon\"\n",
    "\n",
    "seed=816\n",
    "np.random.seed(seed)"
   ]
  },
  {
   "cell_type": "markdown",
   "metadata": {},
   "source": [
    "# Image data descriptions\n",
    "\n",
    "All BraTS multimodal scans are available as  NIfTI files (.nii.gz) -> commonly used medical imaging format to store brain imagin data obtained using MRI and describe different MRI settings \n",
    "1. **T1**: T1-weighted, native image, sagittal or axial 2D acquisitions, with 1–6 mm slice thickness.\n",
    "2. **T1c**: T1-weighted, contrast-enhanced (Gadolinium) image, with 3D acquisition and 1 mm isotropic voxel size for most patients.\n",
    "3. **T2**: T2-weighted image, axial 2D acquisition, with 2–6 mm slice thickness.\n",
    "4. **FLAIR**: T2-weighted FLAIR image, axial, coronal, or sagittal 2D acquisitions, 2–6 mm slice thickness.\n",
    "\n",
    "Data were acquired with different clinical protocols and various scanners from multiple (n=19) institutions.\n",
    "\n",
    "All the imaging datasets have been segmented manually, by one to four raters, following the same annotation protocol, and their annotations were approved by experienced neuro-radiologists. Annotations comprise the GD-enhancing tumor (ET — label 4), the peritumoral edema (ED — label 2), and the necrotic and non-enhancing tumor core (NCR/NET — label 1), as described both in the BraTS 2012-2013 TMI paper and in the latest BraTS summarizing paper. The provided data are distributed after their pre-processing, i.e., co-registered to the same anatomical template, interpolated to the same resolution (1 mm^3) and skull-stripped.\n",
    "\n"
   ]
  },
  {
   "cell_type": "markdown",
   "metadata": {},
   "source": [
    "# Create model Segnet\n",
    "\n"
   ]
  },
  {
   "cell_type": "code",
   "execution_count": null,
   "metadata": {},
   "outputs": [],
   "source": []
  },
  {
   "cell_type": "code",
   "execution_count": 35,
   "metadata": {},
   "outputs": [
    {
     "name": "stdout",
     "output_type": "stream",
     "text": [
      "Training data path: C:\\Users\\basur\\Music\\ASNR-MICCAI-BraTS2023-GLI-Challenge-TrainingData\\train\n",
      "Validation data path: C:\\Users\\basur\\Music\\ASNR-MICCAI-BraTS2023-GLI-Challenge-TrainingData\\val\n"
     ]
    }
   ],
   "source": [
    "import os\n",
    "\n",
    "# Get the data paths from the parent directory\n",
    "data_path = r\"C:\\Users\\basur\\Music\\ASNR-MICCAI-BraTS2023-GLI-Challenge-TrainingData\"\n",
    "TRAINPATH = os.path.join(data_path, 'train')\n",
    "VALIDATIONPATH = os.path.join(data_path, 'val')\n",
    "\n",
    "# Create directories if they don't exist\n",
    "os.makedirs(TRAINPATH, exist_ok=True)\n",
    "os.makedirs(VALIDATIONPATH, exist_ok=True)\n",
    "\n",
    "print(\"Training data path:\", TRAINPATH)\n",
    "print(\"Validation data path:\", VALIDATIONPATH)\n"
   ]
  },
  {
   "cell_type": "code",
   "execution_count": 37,
   "metadata": {},
   "outputs": [],
   "source": [
    "# Install and Import Essential Libraries\n",
    "%pip install ultralytics\n",
    "from IPython import display\n",
    "display.clear_output()"
   ]
  },
  {
   "cell_type": "code",
   "execution_count": 38,
   "metadata": {},
   "outputs": [
    {
     "name": "stdout",
     "output_type": "stream",
     "text": [
      "Requirement already satisfied: ultralytics in c:\\users\\basur\\appdata\\local\\programs\\python\\python312\\lib\\site-packages (8.3.67)\n",
      "Requirement already satisfied: numpy>=1.23.0 in c:\\users\\basur\\appdata\\local\\programs\\python\\python312\\lib\\site-packages (from ultralytics) (1.26.4)\n",
      "Requirement already satisfied: matplotlib>=3.3.0 in c:\\users\\basur\\appdata\\local\\programs\\python\\python312\\lib\\site-packages (from ultralytics) (3.9.2)\n",
      "Requirement already satisfied: opencv-python>=4.6.0 in c:\\users\\basur\\appdata\\local\\programs\\python\\python312\\lib\\site-packages (from ultralytics) (4.10.0.84)\n",
      "Requirement already satisfied: pillow>=7.1.2 in c:\\users\\basur\\appdata\\local\\programs\\python\\python312\\lib\\site-packages (from ultralytics) (10.4.0)\n",
      "Requirement already satisfied: pyyaml>=5.3.1 in c:\\users\\basur\\appdata\\local\\programs\\python\\python312\\lib\\site-packages (from ultralytics) (6.0.2)\n",
      "Requirement already satisfied: requests>=2.23.0 in c:\\users\\basur\\appdata\\local\\programs\\python\\python312\\lib\\site-packages (from ultralytics) (2.32.3)\n",
      "Requirement already satisfied: scipy>=1.4.1 in c:\\users\\basur\\appdata\\local\\programs\\python\\python312\\lib\\site-packages (from ultralytics) (1.14.1)\n",
      "Requirement already satisfied: torch>=1.8.0 in c:\\users\\basur\\appdata\\local\\programs\\python\\python312\\lib\\site-packages (from ultralytics) (2.5.1)\n",
      "Requirement already satisfied: torchvision>=0.9.0 in c:\\users\\basur\\appdata\\local\\programs\\python\\python312\\lib\\site-packages (from ultralytics) (0.20.1)\n",
      "Requirement already satisfied: tqdm>=4.64.0 in c:\\users\\basur\\appdata\\local\\programs\\python\\python312\\lib\\site-packages (from ultralytics) (4.67.0)\n",
      "Requirement already satisfied: psutil in c:\\users\\basur\\appdata\\local\\programs\\python\\python312\\lib\\site-packages (from ultralytics) (5.9.8)\n",
      "Requirement already satisfied: py-cpuinfo in c:\\users\\basur\\appdata\\local\\programs\\python\\python312\\lib\\site-packages (from ultralytics) (9.0.0)\n",
      "Requirement already satisfied: pandas>=1.1.4 in c:\\users\\basur\\appdata\\local\\programs\\python\\python312\\lib\\site-packages (from ultralytics) (2.2.3)\n",
      "Requirement already satisfied: seaborn>=0.11.0 in c:\\users\\basur\\appdata\\local\\programs\\python\\python312\\lib\\site-packages (from ultralytics) (0.13.2)\n",
      "Requirement already satisfied: ultralytics-thop>=2.0.0 in c:\\users\\basur\\appdata\\local\\programs\\python\\python312\\lib\\site-packages (from ultralytics) (2.0.14)\n",
      "Requirement already satisfied: contourpy>=1.0.1 in c:\\users\\basur\\appdata\\local\\programs\\python\\python312\\lib\\site-packages (from matplotlib>=3.3.0->ultralytics) (1.3.0)\n",
      "Requirement already satisfied: cycler>=0.10 in c:\\users\\basur\\appdata\\local\\programs\\python\\python312\\lib\\site-packages (from matplotlib>=3.3.0->ultralytics) (0.12.1)\n",
      "Requirement already satisfied: fonttools>=4.22.0 in c:\\users\\basur\\appdata\\local\\programs\\python\\python312\\lib\\site-packages (from matplotlib>=3.3.0->ultralytics) (4.54.1)\n",
      "Requirement already satisfied: kiwisolver>=1.3.1 in c:\\users\\basur\\appdata\\local\\programs\\python\\python312\\lib\\site-packages (from matplotlib>=3.3.0->ultralytics) (1.4.7)\n",
      "Requirement already satisfied: packaging>=20.0 in c:\\users\\basur\\appdata\\local\\programs\\python\\python312\\lib\\site-packages (from matplotlib>=3.3.0->ultralytics) (24.1)\n",
      "Requirement already satisfied: pyparsing>=2.3.1 in c:\\users\\basur\\appdata\\local\\programs\\python\\python312\\lib\\site-packages (from matplotlib>=3.3.0->ultralytics) (3.1.4)\n",
      "Requirement already satisfied: python-dateutil>=2.7 in c:\\users\\basur\\appdata\\local\\programs\\python\\python312\\lib\\site-packages (from matplotlib>=3.3.0->ultralytics) (2.9.0.post0)\n",
      "Requirement already satisfied: pytz>=2020.1 in c:\\users\\basur\\appdata\\local\\programs\\python\\python312\\lib\\site-packages (from pandas>=1.1.4->ultralytics) (2024.2)\n",
      "Requirement already satisfied: tzdata>=2022.7 in c:\\users\\basur\\appdata\\local\\programs\\python\\python312\\lib\\site-packages (from pandas>=1.1.4->ultralytics) (2024.1)\n",
      "Requirement already satisfied: charset-normalizer<4,>=2 in c:\\users\\basur\\appdata\\local\\programs\\python\\python312\\lib\\site-packages (from requests>=2.23.0->ultralytics) (3.3.2)\n",
      "Requirement already satisfied: idna<4,>=2.5 in c:\\users\\basur\\appdata\\local\\programs\\python\\python312\\lib\\site-packages (from requests>=2.23.0->ultralytics) (3.10)\n",
      "Requirement already satisfied: urllib3<3,>=1.21.1 in c:\\users\\basur\\appdata\\local\\programs\\python\\python312\\lib\\site-packages (from requests>=2.23.0->ultralytics) (1.26.20)\n",
      "Requirement already satisfied: certifi>=2017.4.17 in c:\\users\\basur\\appdata\\local\\programs\\python\\python312\\lib\\site-packages (from requests>=2.23.0->ultralytics) (2024.8.30)\n",
      "Requirement already satisfied: filelock in c:\\users\\basur\\appdata\\local\\programs\\python\\python312\\lib\\site-packages (from torch>=1.8.0->ultralytics) (3.16.1)\n",
      "Requirement already satisfied: typing-extensions>=4.8.0 in c:\\users\\basur\\appdata\\local\\programs\\python\\python312\\lib\\site-packages (from torch>=1.8.0->ultralytics) (4.12.2)\n",
      "Requirement already satisfied: networkx in c:\\users\\basur\\appdata\\local\\programs\\python\\python312\\lib\\site-packages (from torch>=1.8.0->ultralytics) (3.4.2)\n",
      "Requirement already satisfied: jinja2 in c:\\users\\basur\\appdata\\local\\programs\\python\\python312\\lib\\site-packages (from torch>=1.8.0->ultralytics) (3.1.4)\n",
      "Requirement already satisfied: fsspec in c:\\users\\basur\\appdata\\local\\programs\\python\\python312\\lib\\site-packages (from torch>=1.8.0->ultralytics) (2024.9.0)\n",
      "Requirement already satisfied: setuptools in c:\\users\\basur\\appdata\\local\\programs\\python\\python312\\lib\\site-packages (from torch>=1.8.0->ultralytics) (75.1.0)\n",
      "Requirement already satisfied: sympy==1.13.1 in c:\\users\\basur\\appdata\\local\\programs\\python\\python312\\lib\\site-packages (from torch>=1.8.0->ultralytics) (1.13.1)\n",
      "Requirement already satisfied: mpmath<1.4,>=1.1.0 in c:\\users\\basur\\appdata\\local\\programs\\python\\python312\\lib\\site-packages (from sympy==1.13.1->torch>=1.8.0->ultralytics) (1.3.0)\n",
      "Requirement already satisfied: colorama in c:\\users\\basur\\appdata\\local\\programs\\python\\python312\\lib\\site-packages (from tqdm>=4.64.0->ultralytics) (0.4.6)\n",
      "Requirement already satisfied: six>=1.5 in c:\\users\\basur\\appdata\\local\\programs\\python\\python312\\lib\\site-packages (from python-dateutil>=2.7->matplotlib>=3.3.0->ultralytics) (1.16.0)\n",
      "Requirement already satisfied: MarkupSafe>=2.0 in c:\\users\\basur\\appdata\\local\\programs\\python\\python312\\lib\\site-packages (from jinja2->torch>=1.8.0->ultralytics) (2.1.5)\n",
      "Note: you may need to restart the kernel to use updated packages.\n"
     ]
    },
    {
     "name": "stderr",
     "output_type": "stream",
     "text": [
      "\n",
      "[notice] A new release of pip is available: 25.0 -> 25.0.1\n",
      "[notice] To update, run: python.exe -m pip install --upgrade pip\n"
     ]
    }
   ],
   "source": [
    "%pip install ultralytics\n",
    "from ultralytics import YOLO\n",
    "import warnings\n",
    "warnings.filterwarnings('ignore')"
   ]
  },
  {
   "cell_type": "code",
   "execution_count": 39,
   "metadata": {},
   "outputs": [],
   "source": [
    "# Load a pretrained YOLOv8n model from Ultralytics\n",
    "T_Model = YOLO('yolov8n.pt')"
   ]
  },
  {
   "cell_type": "code",
   "execution_count": 40,
   "metadata": {},
   "outputs": [
    {
     "name": "stderr",
     "output_type": "stream",
     "text": [
      "\n",
      "[notice] A new release of pip is available: 25.0 -> 25.0.1\n",
      "[notice] To update, run: python.exe -m pip install --upgrade pip\n"
     ]
    },
    {
     "name": "stdout",
     "output_type": "stream",
     "text": [
      "Requirement already satisfied: nibabel in c:\\users\\basur\\appdata\\local\\programs\\python\\python312\\lib\\site-packages (5.3.2)\n",
      "Requirement already satisfied: ultralytics in c:\\users\\basur\\appdata\\local\\programs\\python\\python312\\lib\\site-packages (8.3.67)\n",
      "Requirement already satisfied: numpy>=1.22 in c:\\users\\basur\\appdata\\local\\programs\\python\\python312\\lib\\site-packages (from nibabel) (1.26.4)\n",
      "Requirement already satisfied: packaging>=20 in c:\\users\\basur\\appdata\\local\\programs\\python\\python312\\lib\\site-packages (from nibabel) (24.1)\n",
      "Requirement already satisfied: typing-extensions>=4.6 in c:\\users\\basur\\appdata\\local\\programs\\python\\python312\\lib\\site-packages (from nibabel) (4.12.2)\n",
      "Requirement already satisfied: matplotlib>=3.3.0 in c:\\users\\basur\\appdata\\local\\programs\\python\\python312\\lib\\site-packages (from ultralytics) (3.9.2)\n",
      "Requirement already satisfied: opencv-python>=4.6.0 in c:\\users\\basur\\appdata\\local\\programs\\python\\python312\\lib\\site-packages (from ultralytics) (4.10.0.84)\n",
      "Requirement already satisfied: pillow>=7.1.2 in c:\\users\\basur\\appdata\\local\\programs\\python\\python312\\lib\\site-packages (from ultralytics) (10.4.0)\n",
      "Requirement already satisfied: pyyaml>=5.3.1 in c:\\users\\basur\\appdata\\local\\programs\\python\\python312\\lib\\site-packages (from ultralytics) (6.0.2)\n",
      "Requirement already satisfied: requests>=2.23.0 in c:\\users\\basur\\appdata\\local\\programs\\python\\python312\\lib\\site-packages (from ultralytics) (2.32.3)\n",
      "Requirement already satisfied: scipy>=1.4.1 in c:\\users\\basur\\appdata\\local\\programs\\python\\python312\\lib\\site-packages (from ultralytics) (1.14.1)\n",
      "Requirement already satisfied: torch>=1.8.0 in c:\\users\\basur\\appdata\\local\\programs\\python\\python312\\lib\\site-packages (from ultralytics) (2.5.1)\n",
      "Requirement already satisfied: torchvision>=0.9.0 in c:\\users\\basur\\appdata\\local\\programs\\python\\python312\\lib\\site-packages (from ultralytics) (0.20.1)\n",
      "Requirement already satisfied: tqdm>=4.64.0 in c:\\users\\basur\\appdata\\local\\programs\\python\\python312\\lib\\site-packages (from ultralytics) (4.67.0)\n",
      "Requirement already satisfied: psutil in c:\\users\\basur\\appdata\\local\\programs\\python\\python312\\lib\\site-packages (from ultralytics) (5.9.8)\n",
      "Requirement already satisfied: py-cpuinfo in c:\\users\\basur\\appdata\\local\\programs\\python\\python312\\lib\\site-packages (from ultralytics) (9.0.0)\n",
      "Requirement already satisfied: pandas>=1.1.4 in c:\\users\\basur\\appdata\\local\\programs\\python\\python312\\lib\\site-packages (from ultralytics) (2.2.3)\n",
      "Requirement already satisfied: seaborn>=0.11.0 in c:\\users\\basur\\appdata\\local\\programs\\python\\python312\\lib\\site-packages (from ultralytics) (0.13.2)\n",
      "Requirement already satisfied: ultralytics-thop>=2.0.0 in c:\\users\\basur\\appdata\\local\\programs\\python\\python312\\lib\\site-packages (from ultralytics) (2.0.14)\n",
      "Requirement already satisfied: contourpy>=1.0.1 in c:\\users\\basur\\appdata\\local\\programs\\python\\python312\\lib\\site-packages (from matplotlib>=3.3.0->ultralytics) (1.3.0)\n",
      "Requirement already satisfied: cycler>=0.10 in c:\\users\\basur\\appdata\\local\\programs\\python\\python312\\lib\\site-packages (from matplotlib>=3.3.0->ultralytics) (0.12.1)\n",
      "Requirement already satisfied: fonttools>=4.22.0 in c:\\users\\basur\\appdata\\local\\programs\\python\\python312\\lib\\site-packages (from matplotlib>=3.3.0->ultralytics) (4.54.1)\n",
      "Requirement already satisfied: kiwisolver>=1.3.1 in c:\\users\\basur\\appdata\\local\\programs\\python\\python312\\lib\\site-packages (from matplotlib>=3.3.0->ultralytics) (1.4.7)\n",
      "Requirement already satisfied: pyparsing>=2.3.1 in c:\\users\\basur\\appdata\\local\\programs\\python\\python312\\lib\\site-packages (from matplotlib>=3.3.0->ultralytics) (3.1.4)\n",
      "Requirement already satisfied: python-dateutil>=2.7 in c:\\users\\basur\\appdata\\local\\programs\\python\\python312\\lib\\site-packages (from matplotlib>=3.3.0->ultralytics) (2.9.0.post0)\n",
      "Requirement already satisfied: pytz>=2020.1 in c:\\users\\basur\\appdata\\local\\programs\\python\\python312\\lib\\site-packages (from pandas>=1.1.4->ultralytics) (2024.2)\n",
      "Requirement already satisfied: tzdata>=2022.7 in c:\\users\\basur\\appdata\\local\\programs\\python\\python312\\lib\\site-packages (from pandas>=1.1.4->ultralytics) (2024.1)\n",
      "Requirement already satisfied: charset-normalizer<4,>=2 in c:\\users\\basur\\appdata\\local\\programs\\python\\python312\\lib\\site-packages (from requests>=2.23.0->ultralytics) (3.3.2)\n",
      "Requirement already satisfied: idna<4,>=2.5 in c:\\users\\basur\\appdata\\local\\programs\\python\\python312\\lib\\site-packages (from requests>=2.23.0->ultralytics) (3.10)\n",
      "Requirement already satisfied: urllib3<3,>=1.21.1 in c:\\users\\basur\\appdata\\local\\programs\\python\\python312\\lib\\site-packages (from requests>=2.23.0->ultralytics) (1.26.20)\n",
      "Requirement already satisfied: certifi>=2017.4.17 in c:\\users\\basur\\appdata\\local\\programs\\python\\python312\\lib\\site-packages (from requests>=2.23.0->ultralytics) (2024.8.30)\n",
      "Requirement already satisfied: filelock in c:\\users\\basur\\appdata\\local\\programs\\python\\python312\\lib\\site-packages (from torch>=1.8.0->ultralytics) (3.16.1)\n",
      "Requirement already satisfied: networkx in c:\\users\\basur\\appdata\\local\\programs\\python\\python312\\lib\\site-packages (from torch>=1.8.0->ultralytics) (3.4.2)\n",
      "Requirement already satisfied: jinja2 in c:\\users\\basur\\appdata\\local\\programs\\python\\python312\\lib\\site-packages (from torch>=1.8.0->ultralytics) (3.1.4)\n",
      "Requirement already satisfied: fsspec in c:\\users\\basur\\appdata\\local\\programs\\python\\python312\\lib\\site-packages (from torch>=1.8.0->ultralytics) (2024.9.0)\n",
      "Requirement already satisfied: setuptools in c:\\users\\basur\\appdata\\local\\programs\\python\\python312\\lib\\site-packages (from torch>=1.8.0->ultralytics) (75.1.0)\n",
      "Requirement already satisfied: sympy==1.13.1 in c:\\users\\basur\\appdata\\local\\programs\\python\\python312\\lib\\site-packages (from torch>=1.8.0->ultralytics) (1.13.1)\n",
      "Requirement already satisfied: mpmath<1.4,>=1.1.0 in c:\\users\\basur\\appdata\\local\\programs\\python\\python312\\lib\\site-packages (from sympy==1.13.1->torch>=1.8.0->ultralytics) (1.3.0)\n",
      "Requirement already satisfied: colorama in c:\\users\\basur\\appdata\\local\\programs\\python\\python312\\lib\\site-packages (from tqdm>=4.64.0->ultralytics) (0.4.6)\n",
      "Requirement already satisfied: six>=1.5 in c:\\users\\basur\\appdata\\local\\programs\\python\\python312\\lib\\site-packages (from python-dateutil>=2.7->matplotlib>=3.3.0->ultralytics) (1.16.0)\n",
      "Requirement already satisfied: MarkupSafe>=2.0 in c:\\users\\basur\\appdata\\local\\programs\\python\\python312\\lib\\site-packages (from jinja2->torch>=1.8.0->ultralytics) (2.1.5)\n",
      "Note: you may need to restart the kernel to use updated packages.\n",
      "Processing training data...\n"
     ]
    },
    {
     "name": "stderr",
     "output_type": "stream",
     "text": [
      "0it [00:00, ?it/s]"
     ]
    },
    {
     "name": "stdout",
     "output_type": "stream",
     "text": [
      "Dataset configuration created at: datasets/brain_tumor\\dataset.yaml\n",
      "New https://pypi.org/project/ultralytics/8.3.75 available  Update with 'pip install -U ultralytics'\n",
      "Ultralytics 8.3.67  Python-3.12.5 torch-2.5.1+cpu CPU (11th Gen Intel Core(TM) i3-1115G4 3.00GHz)\n",
      "\u001b[34m\u001b[1mengine\\trainer: \u001b[0mtask=detect, mode=train, model=yolov8n.pt, data=datasets/brain_tumor\\dataset.yaml, epochs=5, time=None, patience=20, batch=16, imgsz=640, save=True, save_period=-1, cache=False, device=cpu, workers=8, project=None, name=train6, exist_ok=False, pretrained=True, optimizer=auto, verbose=True, seed=0, deterministic=True, single_cls=False, rect=False, cos_lr=False, close_mosaic=10, resume=False, amp=True, fraction=1.0, profile=False, freeze=None, multi_scale=False, overlap_mask=True, mask_ratio=4, dropout=0.0, val=True, split=val, save_json=False, save_hybrid=False, conf=None, iou=0.7, max_det=300, half=False, dnn=False, plots=True, source=None, vid_stride=1, stream_buffer=False, visualize=False, augment=False, agnostic_nms=False, classes=None, retina_masks=False, embed=None, show=False, save_frames=False, save_txt=False, save_conf=False, save_crop=False, show_labels=True, show_conf=True, show_boxes=True, line_width=None, format=torchscript, keras=False, optimize=False, int8=False, dynamic=False, simplify=True, opset=None, workspace=None, nms=False, lr0=0.01, lrf=0.01, momentum=0.937, weight_decay=0.0005, warmup_epochs=3.0, warmup_momentum=0.8, warmup_bias_lr=0.1, box=7.5, cls=0.5, dfl=1.5, pose=12.0, kobj=1.0, nbs=64, hsv_h=0.015, hsv_s=0.7, hsv_v=0.4, degrees=0.0, translate=0.1, scale=0.5, shear=0.0, perspective=0.0, flipud=0.0, fliplr=0.5, bgr=0.0, mosaic=1.0, mixup=0.0, copy_paste=0.0, copy_paste_mode=flip, auto_augment=randaugment, erasing=0.4, crop_fraction=1.0, cfg=None, tracker=botsort.yaml, save_dir=C:\\Users\\basur\\AppData\\Local\\Programs\\Python\\Python312\\Lib\\site-packages\\tests\\tmp\\runs\\detect\\train6\n",
      "Overriding model.yaml nc=80 with nc=4\n",
      "\n",
      "                   from  n    params  module                                       arguments                     \n",
      "  0                  -1  1       464  ultralytics.nn.modules.conv.Conv             [3, 16, 3, 2]                 \n",
      "  1                  -1  1      4672  ultralytics.nn.modules.conv.Conv             [16, 32, 3, 2]                \n",
      "  2                  -1  1      7360  ultralytics.nn.modules.block.C2f             [32, 32, 1, True]             \n",
      "  3                  -1  1     18560  ultralytics.nn.modules.conv.Conv             [32, 64, 3, 2]                \n",
      "  4                  -1  2     49664  ultralytics.nn.modules.block.C2f             [64, 64, 2, True]             \n",
      "  5                  -1  1     73984  ultralytics.nn.modules.conv.Conv             [64, 128, 3, 2]               \n",
      "  6                  -1  2    197632  ultralytics.nn.modules.block.C2f             [128, 128, 2, True]           \n",
      "  7                  -1  1    295424  ultralytics.nn.modules.conv.Conv             [128, 256, 3, 2]              \n",
      "  8                  -1  1    460288  ultralytics.nn.modules.block.C2f             [256, 256, 1, True]           \n",
      "  9                  -1  1    164608  ultralytics.nn.modules.block.SPPF            [256, 256, 5]                 \n",
      " 10                  -1  1         0  torch.nn.modules.upsampling.Upsample         [None, 2, 'nearest']          \n",
      " 11             [-1, 6]  1         0  ultralytics.nn.modules.conv.Concat           [1]                           \n",
      " 12                  -1  1    148224  ultralytics.nn.modules.block.C2f             [384, 128, 1]                 \n",
      " 13                  -1  1         0  torch.nn.modules.upsampling.Upsample         [None, 2, 'nearest']          \n",
      " 14             [-1, 4]  1         0  ultralytics.nn.modules.conv.Concat           [1]                           \n",
      " 15                  -1  1     37248  ultralytics.nn.modules.block.C2f             [192, 64, 1]                  \n",
      " 16                  -1  1     36992  ultralytics.nn.modules.conv.Conv             [64, 64, 3, 2]                \n",
      " 17            [-1, 12]  1         0  ultralytics.nn.modules.conv.Concat           [1]                           \n",
      " 18                  -1  1    123648  ultralytics.nn.modules.block.C2f             [192, 128, 1]                 \n"
     ]
    },
    {
     "name": "stderr",
     "output_type": "stream",
     "text": [
      "\n"
     ]
    },
    {
     "name": "stdout",
     "output_type": "stream",
     "text": [
      " 19                  -1  1    147712  ultralytics.nn.modules.conv.Conv             [128, 128, 3, 2]              \n",
      " 20             [-1, 9]  1         0  ultralytics.nn.modules.conv.Concat           [1]                           \n",
      " 21                  -1  1    493056  ultralytics.nn.modules.block.C2f             [384, 256, 1]                 \n",
      " 22        [15, 18, 21]  1    752092  ultralytics.nn.modules.head.Detect           [4, [64, 128, 256]]           \n",
      "Model summary: 225 layers, 3,011,628 parameters, 3,011,612 gradients, 8.2 GFLOPs\n",
      "\n",
      "Transferred 319/355 items from pretrained weights\n",
      "Freezing layer 'model.22.dfl.conv.weight'\n"
     ]
    },
    {
     "name": "stderr",
     "output_type": "stream",
     "text": [
      "\u001b[34m\u001b[1mtrain: \u001b[0mScanning C:\\Users\\basur\\OneDrive\\Desktop\\YOLOv8\\datasets\\brain_tumor\\labels\\train.cache... 0 images, 1 backgrounds, 0 corrupt: 100%|██████████| 1/1 [00:00<?, ?it/s]"
     ]
    },
    {
     "name": "stdout",
     "output_type": "stream",
     "text": [
      "WARNING  No labels found in C:\\Users\\basur\\OneDrive\\Desktop\\YOLOv8\\datasets\\brain_tumor\\labels\\train.cache, training may not work correctly. See https://docs.ultralytics.com/datasets for dataset formatting guidance.\n"
     ]
    },
    {
     "name": "stderr",
     "output_type": "stream",
     "text": [
      "\n",
      "\u001b[34m\u001b[1mval: \u001b[0mScanning C:\\Users\\basur\\OneDrive\\Desktop\\YOLOv8\\datasets\\brain_tumor\\labels\\val.cache... 0 images, 1 backgrounds, 0 corrupt: 100%|██████████| 1/1 [00:00<?, ?it/s]"
     ]
    },
    {
     "name": "stdout",
     "output_type": "stream",
     "text": [
      "WARNING  No labels found in C:\\Users\\basur\\OneDrive\\Desktop\\YOLOv8\\datasets\\brain_tumor\\labels\\val.cache, training may not work correctly. See https://docs.ultralytics.com/datasets for dataset formatting guidance.\n",
      "Plotting labels to C:\\Users\\basur\\AppData\\Local\\Programs\\Python\\Python312\\Lib\\site-packages\\tests\\tmp\\runs\\detect\\train6\\labels.jpg... \n",
      "zero-size array to reduction operation maximum which has no identity\n",
      "\u001b[34m\u001b[1moptimizer:\u001b[0m 'optimizer=auto' found, ignoring 'lr0=0.01' and 'momentum=0.937' and determining best 'optimizer', 'lr0' and 'momentum' automatically... \n",
      "\u001b[34m\u001b[1moptimizer:\u001b[0m AdamW(lr=0.00125, momentum=0.9) with parameter groups 57 weight(decay=0.0), 64 weight(decay=0.0005), 63 bias(decay=0.0)\n",
      "Image sizes 640 train, 640 val\n",
      "Using 0 dataloader workers\n",
      "Logging results to \u001b[1mC:\\Users\\basur\\AppData\\Local\\Programs\\Python\\Python312\\Lib\\site-packages\\tests\\tmp\\runs\\detect\\train6\u001b[0m\n",
      "Starting training for 5 epochs...\n",
      "\n",
      "      Epoch    GPU_mem   box_loss   cls_loss   dfl_loss  Instances       Size\n"
     ]
    },
    {
     "name": "stderr",
     "output_type": "stream",
     "text": [
      "\n",
      "        1/5         0G          0      7.869          0          0        640: 100%|██████████| 1/1 [00:00<00:00,  1.66it/s]\n",
      "                 Class     Images  Instances      Box(P          R      mAP50  mAP50-95): 100%|██████████| 1/1 [00:00<00:00,  6.24it/s]"
     ]
    },
    {
     "name": "stdout",
     "output_type": "stream",
     "text": [
      "                   all          1          0          0          0          0          0\n",
      "WARNING  no labels found in detect set, can not compute metrics without labels\n"
     ]
    },
    {
     "name": "stderr",
     "output_type": "stream",
     "text": [
      "\n"
     ]
    },
    {
     "name": "stdout",
     "output_type": "stream",
     "text": [
      "\n",
      "      Epoch    GPU_mem   box_loss   cls_loss   dfl_loss  Instances       Size\n"
     ]
    },
    {
     "name": "stderr",
     "output_type": "stream",
     "text": [
      "        2/5         0G          0      7.869          0          0        640: 100%|██████████| 1/1 [00:00<00:00,  2.25it/s]\n",
      "                 Class     Images  Instances      Box(P          R      mAP50  mAP50-95): 100%|██████████| 1/1 [00:00<00:00,  7.23it/s]"
     ]
    },
    {
     "name": "stdout",
     "output_type": "stream",
     "text": [
      "                   all          1          0          0          0          0          0\n",
      "WARNING  no labels found in detect set, can not compute metrics without labels\n"
     ]
    },
    {
     "name": "stderr",
     "output_type": "stream",
     "text": [
      "\n"
     ]
    },
    {
     "name": "stdout",
     "output_type": "stream",
     "text": [
      "\n",
      "      Epoch    GPU_mem   box_loss   cls_loss   dfl_loss  Instances       Size\n"
     ]
    },
    {
     "name": "stderr",
     "output_type": "stream",
     "text": [
      "        3/5         0G          0       7.79          0          0        640: 100%|██████████| 1/1 [00:00<00:00,  2.19it/s]\n",
      "                 Class     Images  Instances      Box(P          R      mAP50  mAP50-95): 100%|██████████| 1/1 [00:00<00:00,  6.50it/s]"
     ]
    },
    {
     "name": "stdout",
     "output_type": "stream",
     "text": [
      "                   all          1          0          0          0          0          0\n",
      "WARNING  no labels found in detect set, can not compute metrics without labels\n"
     ]
    },
    {
     "name": "stderr",
     "output_type": "stream",
     "text": [
      "\n"
     ]
    },
    {
     "name": "stdout",
     "output_type": "stream",
     "text": [
      "\n",
      "      Epoch    GPU_mem   box_loss   cls_loss   dfl_loss  Instances       Size\n"
     ]
    },
    {
     "name": "stderr",
     "output_type": "stream",
     "text": [
      "        4/5         0G          0      7.726          0          0        640: 100%|██████████| 1/1 [00:00<00:00,  1.44it/s]\n",
      "                 Class     Images  Instances      Box(P          R      mAP50  mAP50-95): 100%|██████████| 1/1 [00:00<00:00,  6.34it/s]"
     ]
    },
    {
     "name": "stdout",
     "output_type": "stream",
     "text": [
      "                   all          1          0          0          0          0          0\n",
      "WARNING  no labels found in detect set, can not compute metrics without labels\n"
     ]
    },
    {
     "name": "stderr",
     "output_type": "stream",
     "text": [
      "\n"
     ]
    },
    {
     "name": "stdout",
     "output_type": "stream",
     "text": [
      "\n",
      "      Epoch    GPU_mem   box_loss   cls_loss   dfl_loss  Instances       Size\n"
     ]
    },
    {
     "name": "stderr",
     "output_type": "stream",
     "text": [
      "        5/5         0G          0      7.799          0          0        640: 100%|██████████| 1/1 [00:00<00:00,  2.41it/s]\n",
      "                 Class     Images  Instances      Box(P          R      mAP50  mAP50-95): 100%|██████████| 1/1 [00:00<00:00,  6.71it/s]"
     ]
    },
    {
     "name": "stdout",
     "output_type": "stream",
     "text": [
      "                   all          1          0          0          0          0          0\n",
      "WARNING  no labels found in detect set, can not compute metrics without labels\n"
     ]
    },
    {
     "name": "stderr",
     "output_type": "stream",
     "text": [
      "\n"
     ]
    },
    {
     "name": "stdout",
     "output_type": "stream",
     "text": [
      "\n",
      "5 epochs completed in 0.002 hours.\n",
      "Optimizer stripped from C:\\Users\\basur\\AppData\\Local\\Programs\\Python\\Python312\\Lib\\site-packages\\tests\\tmp\\runs\\detect\\train6\\weights\\last.pt, 6.2MB\n",
      "Optimizer stripped from C:\\Users\\basur\\AppData\\Local\\Programs\\Python\\Python312\\Lib\\site-packages\\tests\\tmp\\runs\\detect\\train6\\weights\\best.pt, 6.2MB\n",
      "\n",
      "Validating C:\\Users\\basur\\AppData\\Local\\Programs\\Python\\Python312\\Lib\\site-packages\\tests\\tmp\\runs\\detect\\train6\\weights\\best.pt...\n",
      "Ultralytics 8.3.67  Python-3.12.5 torch-2.5.1+cpu CPU (11th Gen Intel Core(TM) i3-1115G4 3.00GHz)\n",
      "Model summary (fused): 168 layers, 3,006,428 parameters, 0 gradients, 8.1 GFLOPs\n"
     ]
    },
    {
     "name": "stderr",
     "output_type": "stream",
     "text": [
      "                 Class     Images  Instances      Box(P          R      mAP50  mAP50-95): 100%|██████████| 1/1 [00:00<00:00,  7.24it/s]"
     ]
    },
    {
     "name": "stdout",
     "output_type": "stream",
     "text": [
      "                   all          1          0          0          0          0          0\n",
      "WARNING  no labels found in detect set, can not compute metrics without labels\n"
     ]
    },
    {
     "name": "stderr",
     "output_type": "stream",
     "text": [
      "\n"
     ]
    },
    {
     "name": "stdout",
     "output_type": "stream",
     "text": [
      "Speed: 0.0ms preprocess, 129.9ms inference, 0.0ms loss, 1.4ms postprocess per image\n",
      "Results saved to \u001b[1mC:\\Users\\basur\\AppData\\Local\\Programs\\Python\\Python312\\Lib\\site-packages\\tests\\tmp\\runs\\detect\\train6\u001b[0m\n"
     ]
    }
   ],
   "source": [
    "%pip install nibabel ultralytics\n",
    "\n",
    "import yaml\n",
    "import torch\n",
    "import os\n",
    "import shutil\n",
    "import cv2\n",
    "import numpy as np\n",
    "from PIL import Image\n",
    "import tqdm\n",
    "import nibabel as nib\n",
    "\n",
    "# Create directories if they don't exist\n",
    "TRAINPATH = os.path.join(data_path, 'train')\n",
    "VALIDATIONPATH = os.path.join(data_path, 'val')\n",
    "\n",
    "os.makedirs(TRAINPATH, exist_ok=True)\n",
    "os.makedirs(VALIDATIONPATH, exist_ok=True)\n",
    "\n",
    "# Verify paths exist\n",
    "if not os.path.exists(TRAINPATH):\n",
    "\traise FileNotFoundError(f\"Failed to create training path: {TRAINPATH}\")\n",
    "if not os.path.exists(VALIDATIONPATH):\n",
    "\traise FileNotFoundError(f\"Validation path does not exist: {VALIDATIONPATH}\\nPlease verify data_path: {data_path}\")\n",
    "\n",
    "# Create directory structure for YOLO format\n",
    "base_dir = 'datasets/brain_tumor'\n",
    "os.makedirs(os.path.join(base_dir, 'images/train'), exist_ok=True)\n",
    "os.makedirs(os.path.join(base_dir, 'images/val'), exist_ok=True)\n",
    "os.makedirs(os.path.join(base_dir, 'images/test'), exist_ok=True)\n",
    "os.makedirs(os.path.join(base_dir, 'labels/train'), exist_ok=True)\n",
    "os.makedirs(os.path.join(base_dir, 'labels/val'), exist_ok=True)\n",
    "os.makedirs(os.path.join(base_dir, 'labels/test'), exist_ok=True)\n",
    "# Function to convert MRI slice to RGB image and create YOLO labels\n",
    "def convert_slice_to_rgb(slice_data, mask_data=None):\n",
    "\t# Normalize to 0-255 range\n",
    "\tnormalized = ((slice_data - slice_data.min()) / (slice_data.max() - slice_data.min()) * 255).astype(np.uint8)\n",
    "\t# Convert to RGB by repeating the channel\n",
    "\trgb_image = np.stack([normalized] * 3, axis=-1)\n",
    "\t\n",
    "\t# Create YOLO format labels if mask is provided\n",
    "\tlabels = []\n",
    "\tif mask_data is not None:\n",
    "\t\tfor value in np.unique(mask_data):\n",
    "\t\t\tif value == 0:  # Skip background\n",
    "\t\t\t\tcontinue\n",
    "\t\t\tmask = (mask_data == value).astype(np.uint8)\n",
    "\t\t\tif mask.sum() > 0:\n",
    "\t\t\t\ty, x = np.where(mask)\n",
    "\t\t\t\tx_center = (x.min() + x.max()) / 2 / mask.shape[1]\n",
    "\t\t\t\ty_center = (y.min() + y.max()) / 2 / mask.shape[0]\n",
    "\t\t\t\twidth = (x.max() - x.min()) / mask.shape[1]\n",
    "\t\t\t\theight = (y.max() - y.min()) / mask.shape[0]\n",
    "\t\t\t\tlabels.append(f\"{value-1} {x_center} {y_center} {width} {height}\")\n",
    "\treturn rgb_image, labels\n",
    "\n",
    "# Process and organize training data\n",
    "train_cases = os.listdir(TRAINPATH)\n",
    "print(\"Processing training data...\")\n",
    "for i, case in tqdm.tqdm(enumerate(train_cases[:100])):  # Process first 100 cases for example\n",
    "\tcase_path = os.path.join(TRAINPATH, case)\n",
    "\tif not os.path.isdir(case_path):  # Skip if not a directory\n",
    "\t\tcontinue\n",
    "\t\n",
    "\t# Load MRI modalities\n",
    "\tflair = nib.load(os.path.join(case_path, f'{case}_flair.nii')).get_fdata()\n",
    "\tmask = nib.load(os.path.join(case_path, f'{case}_seg.nii')).get_fdata()\n",
    "\t\n",
    "\t# Process middle 60 slices where tumor is most likely to appear\n",
    "\tstart_slice = flair.shape[2]//2 - 30\n",
    "\tend_slice = flair.shape[2]//2 + 30\n",
    "\t\n",
    "\tfor slice_idx in range(start_slice, end_slice):\n",
    "\t\t# Convert MRI slice to RGB image and get YOLO labels\n",
    "\t\tslice_img, labels = convert_slice_to_rgb(flair[:,:,slice_idx], mask[:,:,slice_idx])\n",
    "\t\t\n",
    "\t\t# Save image and labels (even if no tumor is present, an empty label file will be created)\n",
    "\t\timg_filename = f'{case}_slice_{slice_idx}'\n",
    "\t\timg_path = os.path.join(base_dir, 'images/train', f'{img_filename}.jpg')\n",
    "\t\tlabel_path = os.path.join(base_dir, 'labels/train', f'{img_filename}.txt')\n",
    "\t\t\t\n",
    "\t\tImage.fromarray(slice_img).save(img_path)\n",
    "\t\twith open(label_path, 'w') as f:\n",
    "\t\t\tif labels:\n",
    "\t\t\t\tf.write('\\n'.join(labels))\n",
    "\n",
    "val_cases = os.listdir(VALIDATIONPATH)\n",
    "for i, case in enumerate(val_cases[:100]):  # Process first 100 cases for example\n",
    "\tcase_path = os.path.join(VALIDATIONPATH, case)\n",
    "\t\n",
    "\t# Load MRI modalities\n",
    "\tflair = nib.load(os.path.join(case_path, f'{case}_flair.nii')).get_fdata()\n",
    "\tmask = nib.load(os.path.join(case_path, f'{case}_seg.nii')).get_fdata()\n",
    "\t\n",
    "\t# Process middle 60 slices where tumor is most likely to appear\n",
    "\tstart_slice = flair.shape[2]//2 - 30\n",
    "\tend_slice = flair.shape[2]//2 + 30\n",
    "\t\n",
    "\tfor slice_idx in range(start_slice, end_slice):\n",
    "\t\t# Convert MRI slice to RGB image\n",
    "\t\tslice_img, _ = convert_slice_to_rgb(flair[:,:,slice_idx])\n",
    "\t\t\n",
    "\t\t# Save image\n",
    "\t\timg_filename = f'{case}_slice_{slice_idx}.jpg'\n",
    "\t\timg_path = os.path.join(base_dir, 'images/val', img_filename)\n",
    "\t\t\t\n",
    "\t\tImage.fromarray(slice_img).save(img_path)\n",
    "\n",
    "# Create dataset configuration\n",
    "dataset_config = {\n",
    "\t'path': os.path.abspath(base_dir),  # Use absolute path\n",
    "\t'train': 'images/train',\n",
    "\t'val': 'images/val',\n",
    "\t'test': 'images/test',\n",
    "\t'nc': 4,\n",
    "\t'names': ['ET', 'ED', 'NCR/NET', 'Background']\n",
    "}\n",
    "\n",
    "# Write the configuration to a YAML file\n",
    "yaml_file_path = os.path.join(base_dir, 'dataset.yaml')\n",
    "with open(yaml_file_path, 'w') as f:\n",
    "\tyaml.dump(dataset_config, f)\n",
    "\n",
    "print(\"Dataset configuration created at:\", yaml_file_path)\n",
    "\n",
    "# Check that the training images folder is not empty.\n",
    "train_img_dir = os.path.join(base_dir, 'images/train')\n",
    "if not os.listdir(train_img_dir):\n",
    "\tprint(\"Training images directory is empty, creating a dummy image to avoid error.\")\n",
    "\tdummy_img = np.zeros((640, 640, 3), dtype=np.uint8)\n",
    "\tdummy_path = os.path.join(train_img_dir, 'dummy.jpg')\n",
    "\tImage.fromarray(dummy_img).save(dummy_path)\n",
    "\n",
    "# Check that the validation images folder is not empty.\n",
    "val_img_dir = os.path.join(base_dir, 'images/val')\n",
    "if not os.listdir(val_img_dir):\n",
    "\tprint(\"Validation images directory is empty, creating a dummy image to avoid error.\")\n",
    "\tdummy_img = np.zeros((640, 640, 3), dtype=np.uint8)\n",
    "\tdummy_path = os.path.join(val_img_dir, 'dummy.jpg')\n",
    "\tImage.fromarray(dummy_img).save(dummy_path)\n",
    "\n",
    "# Train the model with the proper configuration\n",
    "results = T_Model.train(\n",
    "\tdata=yaml_file_path,\n",
    "\tepochs=5,\n",
    "\tpatience=20,\n",
    "\timgsz=640,\n",
    "\tbatch=16,\n",
    "\toptimizer='auto',\n",
    "\tpretrained=True,\n",
    "\tdevice='cuda' if torch.cuda.is_available() else 'cpu'\n",
    ")"
   ]
  },
  {
   "cell_type": "code",
   "execution_count": 47,
   "metadata": {},
   "outputs": [
    {
     "name": "stdout",
     "output_type": "stream",
     "text": [
      "Ultralytics 8.3.67  Python-3.12.5 torch-2.5.1+cpu CPU (11th Gen Intel Core(TM) i3-1115G4 3.00GHz)\n",
      "Model summary (fused): 168 layers, 3,006,428 parameters, 0 gradients, 8.1 GFLOPs\n"
     ]
    },
    {
     "name": "stderr",
     "output_type": "stream",
     "text": [
      "\u001b[34m\u001b[1mval: \u001b[0mScanning C:\\Users\\basur\\OneDrive\\Desktop\\UNET 3D\\datasets\\brain_tumor\\labels\\val.cache... 853 images, 347 backgrounds, 0 corrupt: 100%|██████████| 1200/1200 [00:00<?, ?it/s]\n",
      "                 Class     Images  Instances      Box(P          R      mAP50  mAP50-95): 100%|██████████| 75/75 [02:20<00:00,  1.87s/it]\n"
     ]
    },
    {
     "name": "stdout",
     "output_type": "stream",
     "text": [
      "                   all       1200       1926      0.666       0.57        0.6      0.332\n",
      "                    ET        510        510      0.591      0.471      0.502      0.218\n",
      "                    ED        853        853      0.744      0.632      0.673      0.443\n",
      "            Background        563        563      0.661      0.607      0.625      0.335\n",
      "Speed: 1.7ms preprocess, 109.0ms inference, 0.0ms loss, 0.5ms postprocess per image\n",
      "Results saved to \u001b[1mruns\\detect\\val\u001b[0m\n"
     ]
    }
   ],
   "source": [
    "# Define the path to the directory\n",
    "post_training_files_path = r'C:\\Users\\basur\\OneDrive\\Desktop\\UNET 3D\\runs\\detect\\train3\\weights\\last.pt'\n",
    "\n",
    "# Construct the path to the best model weights file using os.path.join\n",
    "best_model_path = os.path.join(post_training_files_path, r'C:\\Users\\basur\\OneDrive\\Desktop\\UNET 3D\\runs\\detect\\train3\\weights\\best.pt')\n",
    "\n",
    "# Check if the best model weights file exists\n",
    "if os.path.exists(best_model_path):\n",
    "\t# Load the best model weights into the YOLO model\n",
    "\tbest_model = YOLO(best_model_path)\n",
    "\n",
    "\t# Validate the best model using the validation set with default parameters\n",
    "\tmetrics = best_model.val(split='val')\n",
    "else:\n",
    "\tprint(f\"File not found: {best_model_path}\")"
   ]
  },
  {
   "cell_type": "code",
   "execution_count": 50,
   "metadata": {},
   "outputs": [
    {
     "data": {
      "text/html": [
       "<div>\n",
       "<style scoped>\n",
       "    .dataframe tbody tr th:only-of-type {\n",
       "        vertical-align: middle;\n",
       "    }\n",
       "\n",
       "    .dataframe tbody tr th {\n",
       "        vertical-align: top;\n",
       "    }\n",
       "\n",
       "    .dataframe thead th {\n",
       "        text-align: right;\n",
       "    }\n",
       "</style>\n",
       "<table border=\"1\" class=\"dataframe\">\n",
       "  <thead>\n",
       "    <tr style=\"text-align: right;\">\n",
       "      <th></th>\n",
       "      <th>Metric Value</th>\n",
       "    </tr>\n",
       "  </thead>\n",
       "  <tbody>\n",
       "    <tr>\n",
       "      <th>metrics/precision(B)</th>\n",
       "      <td>0.665643</td>\n",
       "    </tr>\n",
       "    <tr>\n",
       "      <th>metrics/recall(B)</th>\n",
       "      <td>0.569979</td>\n",
       "    </tr>\n",
       "    <tr>\n",
       "      <th>metrics/mAP50(B)</th>\n",
       "      <td>0.599910</td>\n",
       "    </tr>\n",
       "    <tr>\n",
       "      <th>metrics/mAP50-95(B)</th>\n",
       "      <td>0.332084</td>\n",
       "    </tr>\n",
       "    <tr>\n",
       "      <th>fitness</th>\n",
       "      <td>0.358867</td>\n",
       "    </tr>\n",
       "  </tbody>\n",
       "</table>\n",
       "</div>"
      ],
      "text/plain": [
       "                      Metric Value\n",
       "metrics/precision(B)      0.665643\n",
       "metrics/recall(B)         0.569979\n",
       "metrics/mAP50(B)          0.599910\n",
       "metrics/mAP50-95(B)       0.332084\n",
       "fitness                   0.358867"
      ]
     },
     "execution_count": 50,
     "metadata": {},
     "output_type": "execute_result"
    }
   ],
   "source": [
    "# Convert the metrics to a dictionary and then to a pandas DataFrame\n",
    "metrics_dict = metrics.results_dict\n",
    "metrics_df = pd.DataFrame.from_dict(metrics_dict, orient='index', columns=['Metric Value'])\n",
    "metrics_df"
   ]
  },
  {
   "cell_type": "markdown",
   "metadata": {},
   "source": [
    "### Visualization Results"
   ]
  },
  {
   "cell_type": "code",
   "execution_count": 70,
   "metadata": {},
   "outputs": [],
   "source": [
    "def display_images_in_frame_with_background(post_training_files_path, image_files, background_color='lightgray'):\n",
    "    # Calculate grid size (rows and columns)\n",
    "    num_images = len(image_files)\n",
    "    cols = 3  # Number of columns (you can adjust this as needed)\n",
    "    rows = (num_images + cols - 1) // cols  # Calculate the number of rows needed\n",
    "    \n",
    "    # Set up the subplot grid\n",
    "    fig, axes = plt.subplots(rows, cols, figsize=(15, 5 * rows), dpi=120)\n",
    "    fig.patch.set_facecolor(background_color)  # Set the figure background color\n",
    "    axes = axes.flatten()  # Flatten to easily index\n",
    "    \n",
    "    for i, image_file in enumerate(image_files):\n",
    "        image_path = os.path.join(post_training_files_path, image_file)\n",
    "        if os.path.exists(image_path):\n",
    "            img = cv2.imread(image_path)\n",
    "            img = cv2.cvtColor(img, cv2.COLOR_BGR2RGB)\n",
    "            \n",
    "            axes[i].imshow(img)\n",
    "            axes[i].axis('off')  # Turn off axis\n",
    "            axes[i].set_title(image_file, fontsize=10, color='black')  # Add title with black text\n",
    "        else:\n",
    "            axes[i].text(0.5, 0.5, f'File not found:\\n{image_file}', \n",
    "                         horizontalalignment='center', \n",
    "                         verticalalignment='center', \n",
    "                         fontsize=12, color='red')\n",
    "            axes[i].axis('off')  # Turn off axis\n",
    "    \n",
    "    # Turn off unused subplots if any\n",
    "    for j in range(i + 1, len(axes)):\n",
    "        axes[j].axis('off')\n",
    "    \n",
    "    plt.tight_layout()\n",
    "    plt.show()\n"
   ]
  },
  {
   "cell_type": "code",
   "execution_count": 71,
   "metadata": {},
   "outputs": [
    {
     "data": {
      "image/png": "[encoded data removed]",
      "text/plain": [
       "<Figure size 1800x1200 with 6 Axes>"
      ]
     },
     "metadata": {},
     "output_type": "display_data"
    }
   ],
   "source": [
    "\n",
    "# List of image files to display\n",
    "image_files = [\n",
    "    'F1_curve.png',\n",
    "    'P_curve.png',\n",
    "    'R_curve.png',\n",
    "    'PR_curve.png',\n",
    "    'confusion_matrix_normalized.png',\n",
    "\n",
    "]\n",
    "\n",
    "# Path to the directory containing the images\n",
    "post_training_files_path = r'C:\\Users\\basur\\OneDrive\\Desktop\\UNET 3D\\runs\\detect\\train'\n",
    "\n",
    "# Display the images with a background color\n",
    "display_images_in_frame_with_background(post_training_files_path, image_files, background_color='lightblue')\n"
   ]
  },
  {
   "cell_type": "code",
   "execution_count": 63,
   "metadata": {},
   "outputs": [],
   "source": [
    "# Validation of Model by TestSet\n",
    "\n",
    "# Normalization function\n",
    "def normalize_image(image):\n",
    "    return image / 255.0\n",
    "\n",
    "# Image resizing function\n",
    "def resize_image(image, size=(640, 640)):\n",
    "    return cv2.resize(image, size)\n",
    "\n",
    "# Path to validation images\n",
    "dataset_path = r'C:\\Users\\basur\\.cache\\kagglehub\\datasets\\awsaf49\\brats20-dataset-training-validation\\versions\\1\\BraTS2020_ValidationData\\MICCAI_BraTS2020_ValidationData'  # Corrected path to your local dataset\n",
    "valid_images_path = VALIDATIONPATH\n",
    "\n",
    "# List of all jpg images in the directory\n",
    "image_files = [file for file in os.listdir(valid_images_path) if file.endswith('.jpg')]\n",
    "\n",
    "# Check if there are images in the directory\n",
    "if len(image_files) > 0:\n",
    "    # Select 9 images at equal intervals\n",
    "    num_images = len(image_files)\n",
    "    step_size = max(1, num_images // 16)  # Ensure the interval is at least 1\n",
    "    selected_images = [image_files[i] for i in range(0, num_images, step_size)]\n",
    "\n",
    "    # Prepare subplots\n",
    "    fig, axes = plt.subplots(4, 4, figsize=(20, 21))\n",
    "    fig.suptitle('TEST Set Inferences', fontsize=24)\n",
    "\n",
    "    for i, ax in enumerate(axes.flatten()):\n",
    "        if i < len(selected_images):\n",
    "            image_path = os.path.join(valid_images_path, selected_images[i])\n",
    "            \n",
    "            # Load image\n",
    "            image = cv2.imread(image_path)\n",
    "            \n",
    "            # Check if the image is loaded correctly\n",
    "            if image is not None:\n",
    "                # Resize image\n",
    "                resized_image = resize_image(image, size=(640, 640))\n",
    "                # Normalize image\n",
    "                normalized_image = normalize_image(resized_image)\n",
    "                \n",
    "                # Convert the normalized image to uint8 data type\n",
    "                normalized_image_uint8 = (normalized_image * 255).astype(np.uint8)\n",
    "                \n",
    "                # Predict with the model\n",
    "                results = best_model.predict(source=normalized_image_uint8, imgsz=640, conf=0.5)\n",
    "                \n",
    "                # Plot image with labels\n",
    "                annotated_image = results[0].plot(line_width=1)\n",
    "                annotated_image_rgb = cv2.cvtColor(annotated_image, cv2.COLOR_BGR2RGB)\n",
    "                ax.imshow(annotated_image_rgb)\n",
    "            else:\n",
    "                print(f\"Failed to load image {image_path}\")\n",
    "        ax.axis('off')\n",
    "\n",
    "    plt.tight_layout()\n",
    "    plt.show()\n"
   ]
  }
 ],
 "metadata": {
  "kaggle": {
   "accelerator": "none",
   "dataSources": [
    {
     "datasetId": 751906,
     "sourceId": 1299795,
     "sourceType": "datasetVersion"
    },
    {
     "datasetId": 1221832,
     "sourceId": 2039896,
     "sourceType": "datasetVersion"
    },
    {
     "datasetId": 1252728,
     "sourceId": 2089321,
     "sourceType": "datasetVersion"
    }
   ],
   "dockerImageVersionId": 30786,
   "isGpuEnabled": false,
   "isInternetEnabled": false,
   "language": "python",
   "sourceType": "notebook"
  },
  "kernelspec": {
   "display_name": "Python 3",
   "language": "python",
   "name": "python3"
  },
  "language_info": {
   "codemirror_mode": {
    "name": "ipython",
    "version": 3
   },
   "file_extension": ".py",
   "mimetype": "text/x-python",
   "name": "python",
   "nbconvert_exporter": "python",
   "pygments_lexer": "ipython3",
   "version": "3.12.5"
  }
 },
 "nbformat": 4,
 "nbformat_minor": 4
}
